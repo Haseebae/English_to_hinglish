{
 "cells": [
  {
   "cell_type": "code",
   "execution_count": 1,
   "metadata": {},
   "outputs": [
    {
     "name": "stderr",
     "output_type": "stream",
     "text": [
      "2023-11-06 10:26:31.017753: I tensorflow/core/platform/cpu_feature_guard.cc:193] This TensorFlow binary is optimized with oneAPI Deep Neural Network Library (oneDNN) to use the following CPU instructions in performance-critical operations:  AVX2 AVX512F FMA\n",
      "To enable them in other operations, rebuild TensorFlow with the appropriate compiler flags.\n",
      "2023-11-06 10:26:32.022081: W tensorflow/compiler/xla/stream_executor/platform/default/dso_loader.cc:64] Could not load dynamic library 'libnvinfer.so.7'; dlerror: libnvinfer.so.7: cannot open shared object file: No such file or directory; LD_LIBRARY_PATH: /usr/local/cuda/lib64:/usr/local/nccl2/lib:/usr/local/cuda/extras/CUPTI/lib64\n",
      "2023-11-06 10:26:32.022186: W tensorflow/compiler/xla/stream_executor/platform/default/dso_loader.cc:64] Could not load dynamic library 'libnvinfer_plugin.so.7'; dlerror: libnvinfer_plugin.so.7: cannot open shared object file: No such file or directory; LD_LIBRARY_PATH: /usr/local/cuda/lib64:/usr/local/nccl2/lib:/usr/local/cuda/extras/CUPTI/lib64\n",
      "2023-11-06 10:26:32.022195: W tensorflow/compiler/tf2tensorrt/utils/py_utils.cc:38] TF-TRT Warning: Cannot dlopen some TensorRT libraries. If you would like to use Nvidia GPU with TensorRT, please make sure the missing libraries mentioned above are installed properly.\n",
      "/opt/conda/envs/tensorflow/lib/python3.10/site-packages/tensorflow_addons/utils/tfa_eol_msg.py:23: UserWarning: \n",
      "\n",
      "TensorFlow Addons (TFA) has ended development and introduction of new features.\n",
      "TFA has entered a minimal maintenance and release mode until a planned end of life in May 2024.\n",
      "Please modify downstream libraries to take dependencies from other repositories in our TensorFlow community (e.g. Keras, Keras-CV, and Keras-NLP). \n",
      "\n",
      "For more information see: https://github.com/tensorflow/addons/issues/2807 \n",
      "\n",
      "  warnings.warn(\n",
      "/opt/conda/envs/tensorflow/lib/python3.10/site-packages/tensorflow_addons/utils/ensure_tf_install.py:53: UserWarning: Tensorflow Addons supports using Python ops for all Tensorflow versions above or equal to 2.12.0 and strictly below 2.15.0 (nightly versions are not supported). \n",
      " The versions of TensorFlow you are currently using is 2.11.0 and is not supported. \n",
      "Some things might work, some things might not.\n",
      "If you were to encounter a bug, do not file an issue.\n",
      "If you want to make sure you're using a tested and supported configuration, either change the TensorFlow version or the TensorFlow Addons's version. \n",
      "You can find the compatibility matrix in TensorFlow Addon's readme:\n",
      "https://github.com/tensorflow/addons\n",
      "  warnings.warn(\n",
      "[nltk_data] Downloading package punkt to /home/jupyter/nltk_data...\n",
      "[nltk_data]   Package punkt is already up-to-date!\n"
     ]
    }
   ],
   "source": [
    "import Attention as AttentionLayer\n",
    "import numpy as np\n",
    "import pandas as pd\n",
    "import re\n",
    "import pickle\n",
    "from unicodedata import normalize\n",
    "import string\n",
    "import keras\n",
    "from bs4 import BeautifulSoup\n",
    "\n",
    "from tensorflow.keras.layers import Input, LSTM, Embedding, Dense, Concatenate, TimeDistributed, Bidirectional\n",
    "from tensorflow.keras.models import Model\n",
    "from tensorflow.keras.callbacks import EarlyStopping\n",
    "from tensorflow.keras.callbacks import Callback\n",
    "import warnings\n",
    "import tensorflow_addons as tfa\n",
    "import tensorflow as tf\n",
    "from tensorflow.keras.layers import Embedding, Input, Bidirectional, LSTM, Dense, Concatenate\n",
    "from tensorflow.keras.initializers import Constant\n",
    "import nltk\n",
    "nltk.download('punkt')\n",
    "from nltk.corpus import stopwords\n",
    "from nltk.tokenize import word_tokenize\n",
    "from gensim.models.keyedvectors import KeyedVectors\n",
    "from gensim.test.utils import get_tmpfile\n",
    "from gensim.scripts.glove2word2vec import glove2word2vec\n",
    "import collections\n",
    "from datasets import load_dataset"
   ]
  },
  {
   "cell_type": "code",
   "execution_count": 11,
   "metadata": {},
   "outputs": [
    {
     "name": "stdout",
     "output_type": "stream",
     "text": [
      "Collecting datasets\n",
      "  Obtaining dependency information for datasets from https://files.pythonhosted.org/packages/7c/55/b3432f43d6d7fee999bb23a547820d74c48ec540f5f7842e41aa5d8d5f3a/datasets-2.14.6-py3-none-any.whl.metadata\n",
      "  Downloading datasets-2.14.6-py3-none-any.whl.metadata (19 kB)\n",
      "Requirement already satisfied: numpy>=1.17 in /opt/conda/envs/tensorflow/lib/python3.10/site-packages (from datasets) (1.23.5)\n",
      "Requirement already satisfied: pyarrow>=8.0.0 in /opt/conda/envs/tensorflow/lib/python3.10/site-packages (from datasets) (9.0.0)\n",
      "Requirement already satisfied: dill<0.3.8,>=0.3.0 in /opt/conda/envs/tensorflow/lib/python3.10/site-packages (from datasets) (0.3.1.1)\n",
      "Requirement already satisfied: pandas in /opt/conda/envs/tensorflow/lib/python3.10/site-packages (from datasets) (2.0.3)\n",
      "Requirement already satisfied: requests>=2.19.0 in /opt/conda/envs/tensorflow/lib/python3.10/site-packages (from datasets) (2.31.0)\n",
      "Requirement already satisfied: tqdm>=4.62.1 in /opt/conda/envs/tensorflow/lib/python3.10/site-packages (from datasets) (4.66.1)\n",
      "Collecting xxhash (from datasets)\n",
      "  Obtaining dependency information for xxhash from https://files.pythonhosted.org/packages/80/8a/1dd41557883b6196f8f092011a5c1f72d4d44cf36d7b67d4a5efe3127949/xxhash-3.4.1-cp310-cp310-manylinux_2_17_x86_64.manylinux2014_x86_64.whl.metadata\n",
      "  Downloading xxhash-3.4.1-cp310-cp310-manylinux_2_17_x86_64.manylinux2014_x86_64.whl.metadata (12 kB)\n",
      "Collecting multiprocess (from datasets)\n",
      "  Obtaining dependency information for multiprocess from https://files.pythonhosted.org/packages/35/a8/36d8d7b3e46b377800d8dec47891cdf05842d1a2366909ae4a0c89fbc5e6/multiprocess-0.70.15-py310-none-any.whl.metadata\n",
      "  Downloading multiprocess-0.70.15-py310-none-any.whl.metadata (7.2 kB)\n",
      "Requirement already satisfied: fsspec[http]<=2023.10.0,>=2023.1.0 in /opt/conda/envs/tensorflow/lib/python3.10/site-packages (from datasets) (2023.6.0)\n",
      "Requirement already satisfied: aiohttp in /opt/conda/envs/tensorflow/lib/python3.10/site-packages (from datasets) (3.8.5)\n",
      "Collecting huggingface-hub<1.0.0,>=0.14.0 (from datasets)\n",
      "  Obtaining dependency information for huggingface-hub<1.0.0,>=0.14.0 from https://files.pythonhosted.org/packages/ef/b5/b6107bd65fa4c96fdf00e4733e2fe5729bb9e5e09997f63074bb43d3ab28/huggingface_hub-0.18.0-py3-none-any.whl.metadata\n",
      "  Downloading huggingface_hub-0.18.0-py3-none-any.whl.metadata (13 kB)\n",
      "Requirement already satisfied: packaging in /opt/conda/envs/tensorflow/lib/python3.10/site-packages (from datasets) (23.1)\n",
      "Requirement already satisfied: pyyaml>=5.1 in /opt/conda/envs/tensorflow/lib/python3.10/site-packages (from datasets) (6.0.1)\n",
      "Requirement already satisfied: attrs>=17.3.0 in /opt/conda/envs/tensorflow/lib/python3.10/site-packages (from aiohttp->datasets) (23.1.0)\n",
      "Requirement already satisfied: charset-normalizer<4.0,>=2.0 in /opt/conda/envs/tensorflow/lib/python3.10/site-packages (from aiohttp->datasets) (3.2.0)\n",
      "Requirement already satisfied: multidict<7.0,>=4.5 in /opt/conda/envs/tensorflow/lib/python3.10/site-packages (from aiohttp->datasets) (6.0.4)\n",
      "Requirement already satisfied: async-timeout<5.0,>=4.0.0a3 in /opt/conda/envs/tensorflow/lib/python3.10/site-packages (from aiohttp->datasets) (4.0.3)\n",
      "Requirement already satisfied: yarl<2.0,>=1.0 in /opt/conda/envs/tensorflow/lib/python3.10/site-packages (from aiohttp->datasets) (1.9.2)\n",
      "Requirement already satisfied: frozenlist>=1.1.1 in /opt/conda/envs/tensorflow/lib/python3.10/site-packages (from aiohttp->datasets) (1.4.0)\n",
      "Requirement already satisfied: aiosignal>=1.1.2 in /opt/conda/envs/tensorflow/lib/python3.10/site-packages (from aiohttp->datasets) (1.3.1)\n",
      "Requirement already satisfied: filelock in /opt/conda/envs/tensorflow/lib/python3.10/site-packages (from huggingface-hub<1.0.0,>=0.14.0->datasets) (3.12.2)\n",
      "Requirement already satisfied: typing-extensions>=3.7.4.3 in /opt/conda/envs/tensorflow/lib/python3.10/site-packages (from huggingface-hub<1.0.0,>=0.14.0->datasets) (4.5.0)\n",
      "Requirement already satisfied: idna<4,>=2.5 in /opt/conda/envs/tensorflow/lib/python3.10/site-packages (from requests>=2.19.0->datasets) (3.4)\n",
      "Requirement already satisfied: urllib3<3,>=1.21.1 in /opt/conda/envs/tensorflow/lib/python3.10/site-packages (from requests>=2.19.0->datasets) (1.26.15)\n",
      "Requirement already satisfied: certifi>=2017.4.17 in /opt/conda/envs/tensorflow/lib/python3.10/site-packages (from requests>=2.19.0->datasets) (2023.7.22)\n",
      "Collecting dill<0.3.8,>=0.3.0 (from datasets)\n",
      "  Obtaining dependency information for dill<0.3.8,>=0.3.0 from https://files.pythonhosted.org/packages/f5/3a/74a29b11cf2cdfcd6ba89c0cecd70b37cd1ba7b77978ce611eb7a146a832/dill-0.3.7-py3-none-any.whl.metadata\n",
      "  Downloading dill-0.3.7-py3-none-any.whl.metadata (9.9 kB)\n",
      "Requirement already satisfied: python-dateutil>=2.8.2 in /opt/conda/envs/tensorflow/lib/python3.10/site-packages (from pandas->datasets) (2.8.2)\n",
      "Requirement already satisfied: pytz>=2020.1 in /opt/conda/envs/tensorflow/lib/python3.10/site-packages (from pandas->datasets) (2023.3)\n",
      "Requirement already satisfied: tzdata>=2022.1 in /opt/conda/envs/tensorflow/lib/python3.10/site-packages (from pandas->datasets) (2023.3)\n",
      "Requirement already satisfied: six>=1.5 in /opt/conda/envs/tensorflow/lib/python3.10/site-packages (from python-dateutil>=2.8.2->pandas->datasets) (1.16.0)\n",
      "Downloading datasets-2.14.6-py3-none-any.whl (493 kB)\n",
      "\u001b[2K   \u001b[90m━━━━━━━━━━━━━━━━━━━━━━━━━━━━━━━━━━━━━━━━\u001b[0m \u001b[32m493.7/493.7 kB\u001b[0m \u001b[31m30.4 MB/s\u001b[0m eta \u001b[36m0:00:00\u001b[0m\n",
      "\u001b[?25hDownloading huggingface_hub-0.18.0-py3-none-any.whl (301 kB)\n",
      "\u001b[2K   \u001b[90m━━━━━━━━━━━━━━━━━━━━━━━━━━━━━━━━━━━━━━━━\u001b[0m \u001b[32m302.0/302.0 kB\u001b[0m \u001b[31m49.8 MB/s\u001b[0m eta \u001b[36m0:00:00\u001b[0m\n",
      "\u001b[?25hDownloading multiprocess-0.70.15-py310-none-any.whl (134 kB)\n",
      "\u001b[2K   \u001b[90m━━━━━━━━━━━━━━━━━━━━━━━━━━━━━━━━━━━━━━━━\u001b[0m \u001b[32m134.8/134.8 kB\u001b[0m \u001b[31m32.5 MB/s\u001b[0m eta \u001b[36m0:00:00\u001b[0m\n",
      "\u001b[?25hDownloading dill-0.3.7-py3-none-any.whl (115 kB)\n",
      "\u001b[2K   \u001b[90m━━━━━━━━━━━━━━━━━━━━━━━━━━━━━━━━━━━━━━━━\u001b[0m \u001b[32m115.3/115.3 kB\u001b[0m \u001b[31m25.9 MB/s\u001b[0m eta \u001b[36m0:00:00\u001b[0m\n",
      "\u001b[?25hDownloading xxhash-3.4.1-cp310-cp310-manylinux_2_17_x86_64.manylinux2014_x86_64.whl (194 kB)\n",
      "\u001b[2K   \u001b[90m━━━━━━━━━━━━━━━━━━━━━━━━━━━━━━━━━━━━━━━━\u001b[0m \u001b[32m194.1/194.1 kB\u001b[0m \u001b[31m37.7 MB/s\u001b[0m eta \u001b[36m0:00:00\u001b[0m\n",
      "\u001b[?25hInstalling collected packages: xxhash, dill, multiprocess, huggingface-hub, datasets\n",
      "  Attempting uninstall: dill\n",
      "    Found existing installation: dill 0.3.1.1\n",
      "    Uninstalling dill-0.3.1.1:\n",
      "      Successfully uninstalled dill-0.3.1.1\n",
      "\u001b[31mERROR: pip's dependency resolver does not currently take into account all the packages that are installed. This behaviour is the source of the following dependency conflicts.\n",
      "apache-beam 2.46.0 requires dill<0.3.2,>=0.3.1.1, but you have dill 0.3.7 which is incompatible.\u001b[0m\u001b[31m\n",
      "\u001b[0mSuccessfully installed datasets-2.14.6 dill-0.3.7 huggingface-hub-0.18.0 multiprocess-0.70.15 xxhash-3.4.1\n"
     ]
    }
   ],
   "source": [
    "#!pip install tensorflow_addons\n",
    "#!pip install nltk\n",
    "#!pip install gensim\n",
    "#!pip install datasets"
   ]
  },
  {
   "cell_type": "code",
   "execution_count": 2,
   "metadata": {},
   "outputs": [],
   "source": [
    "import os\n",
    "from tensorflow.keras.layers import Layer\n",
    "from tensorflow.keras import backend as K\n",
    "#using this implementation of attention\n",
    "#https://github.com/thushv89/attention_keras/blob/master/src/layers/attention.py\n",
    "class AttentionLayer(Layer):\n",
    "    \"\"\"\n",
    "    This class implements Bahdanau attention (https://arxiv.org/pdf/1409.0473.pdf).\n",
    "    There are three sets of weights introduced W_a, U_a, and V_a\n",
    "     \"\"\"\n",
    "\n",
    "    def _init_(self, **kwargs):\n",
    "        super(AttentionLayer, self)._init_(**kwargs)\n",
    "\n",
    "    def build(self, input_shape):\n",
    "        assert isinstance(input_shape, list)\n",
    "        # Create a trainable weight variable for this layer.\n",
    "\n",
    "        self.W_a = self.add_weight(name='W_a',\n",
    "                                   shape=tf.TensorShape((input_shape[0][2], input_shape[0][2])),\n",
    "                                   initializer='uniform',\n",
    "                                   trainable=True)\n",
    "        self.U_a = self.add_weight(name='U_a',\n",
    "                                   shape=tf.TensorShape((input_shape[1][2], input_shape[0][2])),\n",
    "                                   initializer='uniform',\n",
    "                                   trainable=True)\n",
    "        self.V_a = self.add_weight(name='V_a',\n",
    "                                   shape=tf.TensorShape((input_shape[0][2], 1)),\n",
    "                                   initializer='uniform',\n",
    "                                   trainable=True)\n",
    "\n",
    "        super(AttentionLayer, self).build(input_shape)  # Be sure to call this at the end\n",
    "\n",
    "    def call(self, inputs, verbose=False):\n",
    "        \"\"\"\n",
    "        inputs: [encoder_output_sequence, decoder_output_sequence]\n",
    "        \"\"\"\n",
    "        assert type(inputs) == list\n",
    "        encoder_out_seq, decoder_out_seq = inputs\n",
    "        if verbose:\n",
    "            print('encoder_out_seq>', encoder_out_seq.shape)\n",
    "            print('decoder_out_seq>', decoder_out_seq.shape)\n",
    "\n",
    "        def energy_step(inputs, states):\n",
    "            \"\"\" Step function for computing energy for a single decoder state \"\"\"\n",
    "\n",
    "            assert_msg = \"States must be a list. However states {} is of type {}\".format(states, type(states))\n",
    "            assert isinstance(states, list) or isinstance(states, tuple), assert_msg\n",
    "\n",
    "            \"\"\" Some parameters required for shaping tensors\"\"\"\n",
    "            en_seq_len, en_hidden = encoder_out_seq.shape[1], encoder_out_seq.shape[2]\n",
    "            de_hidden = inputs.shape[-1]\n",
    "\n",
    "            \"\"\" Computing S.Wa where S=[s0, s1, ..., si]\"\"\"\n",
    "            # <= batch_size*en_seq_len, latent_dim\n",
    "            reshaped_enc_outputs = K.reshape(encoder_out_seq, (-1, en_hidden))\n",
    "            # <= batch_size*en_seq_len, latent_dim\n",
    "            W_a_dot_s = K.reshape(K.dot(reshaped_enc_outputs, self.W_a), (-1, en_seq_len, en_hidden))\n",
    "            if verbose:\n",
    "                print('wa.s>',W_a_dot_s.shape)\n",
    "\n",
    "            \"\"\" Computing hj.Ua \"\"\"\n",
    "            U_a_dot_h = K.expand_dims(K.dot(inputs, self.U_a), 1)  # <= batch_size, 1, latent_dim\n",
    "            if verbose:\n",
    "                print('Ua.h>',U_a_dot_h.shape)\n",
    "\n",
    "            \"\"\" tanh(S.Wa + hj.Ua) \"\"\"\n",
    "            # <= batch_size*en_seq_len, latent_dim\n",
    "            reshaped_Ws_plus_Uh = K.tanh(K.reshape(W_a_dot_s + U_a_dot_h, (-1, en_hidden)))\n",
    "            if verbose:\n",
    "                print('Ws+Uh>', reshaped_Ws_plus_Uh.shape)\n",
    "\n",
    "            \"\"\" softmax(va.tanh(S.Wa + hj.Ua)) \"\"\"\n",
    "            # <= batch_size, en_seq_len\n",
    "            e_i = K.reshape(K.dot(reshaped_Ws_plus_Uh, self.V_a), (-1, en_seq_len))\n",
    "            # <= batch_size, en_seq_len\n",
    "            e_i = K.softmax(e_i)\n",
    "\n",
    "            if verbose:\n",
    "                print('ei>', e_i.shape)\n",
    "\n",
    "            return e_i, [e_i]\n",
    "\n",
    "        def context_step(inputs, states):\n",
    "            \"\"\" Step function for computing ci using ei \"\"\"\n",
    "            # <= batch_size, hidden_size\n",
    "            c_i = K.sum(encoder_out_seq * K.expand_dims(inputs, -1), axis=1)\n",
    "            if verbose:\n",
    "                print('ci>', c_i.shape)\n",
    "            return c_i, [c_i]\n",
    "\n",
    "        def create_inital_state(inputs, hidden_size):\n",
    "            # We are not using initial states, but need to pass something to K.rnn funciton\n",
    "            fake_state = K.zeros_like(inputs)  # <= (batch_size, enc_seq_len, latent_dim\n",
    "            fake_state = K.sum(fake_state, axis=[1, 2])  # <= (batch_size)\n",
    "            fake_state = K.expand_dims(fake_state)  # <= (batch_size, 1)\n",
    "            fake_state = K.tile(fake_state, [1, hidden_size])  # <= (batch_size, latent_dim\n",
    "            return fake_state\n",
    "\n",
    "        fake_state_c = create_inital_state(encoder_out_seq, encoder_out_seq.shape[-1])\n",
    "        fake_state_e = create_inital_state(encoder_out_seq, encoder_out_seq.shape[1])  # <= (batch_size, enc_seq_len, latent_dim\n",
    "\n",
    "        \"\"\" Computing energy outputs \"\"\"\n",
    "        # e_outputs => (batch_size, de_seq_len, en_seq_len)\n",
    "        last_out, e_outputs, _ = K.rnn(\n",
    "            energy_step, decoder_out_seq, [fake_state_e],\n",
    "        )\n",
    "\n",
    "        \"\"\" Computing context vectors \"\"\"\n",
    "        last_out, c_outputs, _ = K.rnn(\n",
    "            context_step, e_outputs, [fake_state_c],\n",
    "        )\n",
    "\n",
    "        return c_outputs, e_outputs\n",
    "\n",
    "    def compute_output_shape(self, input_shape):\n",
    "        \"\"\" Outputs produced by the layer \"\"\"\n",
    "        return [\n",
    "            tf.TensorShape((input_shape[1][0], input_shape[1][1], input_shape[1][2])),\n",
    "            tf.TensorShape((input_shape[1][0], input_shape[1][1], input_shape[0][1]))\n",
    "        ]"
   ]
  },
  {
   "cell_type": "markdown",
   "metadata": {},
   "source": [
    "## Preparing Data"
   ]
  },
  {
   "cell_type": "code",
   "execution_count": 14,
   "metadata": {
    "ExecuteTime": {
     "end_time": "2020-07-21T09:40:12.463459Z",
     "start_time": "2020-07-21T09:40:12.439639Z"
    }
   },
   "outputs": [],
   "source": [
    "def clean_data(text):\n",
    "    result = []\n",
    "    # regex for removing weird chars\n",
    "    re_print = re.compile('[^%s]' % re.escape(string.printable))\n",
    "    # regex for removing punctuation except ':'\n",
    "    regex_punct = re.compile('[%s]' % re.escape(''.join(c for c in string.punctuation if c != ':')))\n",
    "    for line in text:\n",
    "        # unicode chars\n",
    "        line = normalize('NFD', line).encode('ascii', 'ignore')\n",
    "        line = line.decode('UTF-8')\n",
    "        # split on whitespace so we can remove weird chars and punctuation\n",
    "        line = line.split()\n",
    "        # convert to lower case\n",
    "        line = [word.lower() for word in line]\n",
    "        # remove punctuation (except ':') and weird chars\n",
    "        line = [regex_punct.sub('', word) for word in line]\n",
    "        line = [re_print.sub('', w) for w in line]\n",
    "        result.append(' '.join(line))\n",
    "    return result"
   ]
  },
  {
   "cell_type": "code",
   "execution_count": 15,
   "metadata": {},
   "outputs": [
    {
     "data": {
      "application/vnd.jupyter.widget-view+json": {
       "model_id": "ef0a3ca847d1463b9a5c8e14ee2f69a3",
       "version_major": 2,
       "version_minor": 0
      },
      "text/plain": [
       "Downloading readme:   0%|          | 0.00/367 [00:00<?, ?B/s]"
      ]
     },
     "metadata": {},
     "output_type": "display_data"
    },
    {
     "data": {
      "application/vnd.jupyter.widget-view+json": {
       "model_id": "a604f9f17d4c4853b6e4735a82c63b9a",
       "version_major": 2,
       "version_minor": 0
      },
      "text/plain": [
       "Downloading data files:   0%|          | 0/1 [00:00<?, ?it/s]"
      ]
     },
     "metadata": {},
     "output_type": "display_data"
    },
    {
     "data": {
      "application/vnd.jupyter.widget-view+json": {
       "model_id": "7c9208d209c245179b0b0eb54701b751",
       "version_major": 2,
       "version_minor": 0
      },
      "text/plain": [
       "Downloading data:   0%|          | 0.00/27.1M [00:00<?, ?B/s]"
      ]
     },
     "metadata": {},
     "output_type": "display_data"
    },
    {
     "data": {
      "application/vnd.jupyter.widget-view+json": {
       "model_id": "93dc641dfe174dc2bf710c50f8255aba",
       "version_major": 2,
       "version_minor": 0
      },
      "text/plain": [
       "Extracting data files:   0%|          | 0/1 [00:00<?, ?it/s]"
      ]
     },
     "metadata": {},
     "output_type": "display_data"
    },
    {
     "data": {
      "application/vnd.jupyter.widget-view+json": {
       "model_id": "b770ceac8eb6455b8e1c371b08390d4a",
       "version_major": 2,
       "version_minor": 0
      },
      "text/plain": [
       "Generating train split: 0 examples [00:00, ? examples/s]"
      ]
     },
     "metadata": {},
     "output_type": "display_data"
    }
   ],
   "source": [
    "dataset_name = \"findnitai/english-to-hinglish\"\n",
    "dataset = load_dataset(dataset_name, split=\"train\")"
   ]
  },
  {
   "cell_type": "code",
   "execution_count": 16,
   "metadata": {},
   "outputs": [],
   "source": [
    "dataset_dict = dataset.to_dict()"
   ]
  },
  {
   "cell_type": "code",
   "execution_count": 17,
   "metadata": {},
   "outputs": [],
   "source": [
    "english = [item['en'] for item in dataset_dict['translation']]\n",
    "hinglish = [item['hi_ng'] for item in dataset_dict['translation']]"
   ]
  },
  {
   "cell_type": "code",
   "execution_count": 18,
   "metadata": {},
   "outputs": [],
   "source": [
    "# clean the data\n",
    "\n",
    "clean_eng = clean_data(english)\n",
    "clean_hing = clean_data(hinglish)\n",
    "#save the files so we dont have to do this process again\n",
    "with open('clean_english.pkl', 'wb') as f:\n",
    "    pickle.dump(clean_eng, f)\n",
    "\n",
    "with open('clean_hinglish.pkl', 'wb') as f:\n",
    "    pickle.dump(clean_hing, f)"
   ]
  },
  {
   "cell_type": "code",
   "execution_count": 3,
   "metadata": {},
   "outputs": [],
   "source": [
    "# Open the pickle file for reading in binary mode ('rb')\n",
    "with open('clean_english.pkl', 'rb') as file:\n",
    "    english_data = pickle.load(file)\n",
    "    \n",
    "with open('clean_hinglish.pkl', 'rb') as file:\n",
    "    hinglish_data = pickle.load(file)"
   ]
  },
  {
   "cell_type": "code",
   "execution_count": 4,
   "metadata": {},
   "outputs": [],
   "source": [
    "max_length = 40\n",
    "#cut down length of sentences to speed up training times\n",
    "shortened_english = [word_tokenize(x)[:max_length] for x in english_data]\n",
    "shortened_hinglish = [['<s>'] + word_tokenize(x)[:max_length - 2] + ['</s>']\n",
    "                    for x in hinglish_data]\n",
    "#add padding to english sentences to make them all same length\n",
    "shortened_english = [\n",
    "    d + (max_length - len(d)) * [\"<padding>\"] for d in shortened_english\n",
    "]"
   ]
  },
  {
   "cell_type": "code",
   "execution_count": 5,
   "metadata": {},
   "outputs": [
    {
     "data": {
      "text/plain": [
       "'whats the name of the movie'"
      ]
     },
     "execution_count": 5,
     "metadata": {},
     "output_type": "execute_result"
    }
   ],
   "source": [
    "english_data[0]"
   ]
  },
  {
   "cell_type": "code",
   "execution_count": 6,
   "metadata": {},
   "outputs": [],
   "source": [
    "#creating list of words in english\n",
    "english_words = list()\n",
    "for sentence in shortened_english:\n",
    "    for word in sentence:\n",
    "        if word != \"<padding>\":\n",
    "            english_words.append(word)\n",
    "\n",
    "#putting the most common words into a dict\n",
    "english_word_counter = collections.Counter(english_words).most_common()[:10000]\n",
    "english_word_dict = {}\n",
    "english_word_dict[\"<padding>\"] = 0\n",
    "english_word_dict[\"<unk>\"] = 1\n",
    "english_word_dict[\"<s>\"] = 2\n",
    "english_word_dict[\"</s>\"] = 3\n",
    "for word, _ in english_word_counter:\n",
    "    english_word_dict[word] = len(english_word_dict)"
   ]
  },
  {
   "cell_type": "code",
   "execution_count": 7,
   "metadata": {},
   "outputs": [],
   "source": [
    "#creating list of hinglish words\n",
    "hinglish_words = list()\n",
    "for sentence in shortened_hinglish:\n",
    "    for word in sentence:\n",
    "        if word != \"<padding>\" and word != \"<s>\" and word != \"</s>\":\n",
    "            hinglish_words.append(word)\n",
    "\n",
    "#putting the most common words into a dict\n",
    "hinglish_word_counter = collections.Counter(hinglish_words).most_common()[:10000]\n",
    "hinglish_word_dict = {}\n",
    "hinglish_word_dict[\"<padding>\"] = 0\n",
    "hinglish_word_dict[\"<unk>\"] = 1\n",
    "hinglish_word_dict[\"<s>\"] = 2\n",
    "hinglish_word_dict[\"</s>\"] = 3\n",
    "for word, _ in hinglish_word_counter:\n",
    "    hinglish_word_dict[word] = len(hinglish_word_dict)"
   ]
  },
  {
   "cell_type": "code",
   "execution_count": 8,
   "metadata": {},
   "outputs": [],
   "source": [
    "#obtaining reversed dicts for inference\n",
    "english_reversed_dict = dict(zip(english_word_dict.values(), english_word_dict.keys()))\n",
    "hinglish_reversed_dict = dict(zip(hinglish_word_dict.values(), hinglish_word_dict.keys()))"
   ]
  },
  {
   "cell_type": "code",
   "execution_count": 9,
   "metadata": {},
   "outputs": [],
   "source": [
    "#initialising the training data\n",
    "encoder_input_data = np.zeros(\n",
    "    (len(shortened_english), max_length),\n",
    "    dtype='float32')\n",
    "decoder_input_data = np.zeros(\n",
    "    (len(shortened_hinglish), max_length),\n",
    "    dtype='float32')\n",
    "decoder_target_data = np.zeros(\n",
    "    (len(shortened_hinglish), max_length),\n",
    "    dtype='float32')"
   ]
  },
  {
   "cell_type": "code",
   "execution_count": 10,
   "metadata": {},
   "outputs": [],
   "source": [
    "for i, (input_text,target_text) in enumerate(zip(shortened_english, shortened_hinglish)):\n",
    "    for t, char in enumerate(input_text):\n",
    "        try:\n",
    "            #use unk if we cant find the word in the dictionary\n",
    "            encoder_input_data[i, t] = english_word_dict.get(\n",
    "                char, english_word_dict[\"<unk>\"])\n",
    "        except:\n",
    "            print(char)\n",
    "\n",
    "    for t, char in enumerate(target_text):\n",
    "        # decoder_target_data is ahead of decoder_input_data by one timestep\n",
    "        decoder_input_data[i, t] = hinglish_word_dict.get(\n",
    "            char, hinglish_word_dict[\"<unk>\"])\n",
    "        if t > 0:\n",
    "            # decoder_target_data will be ahead by one timestep\n",
    "            # and will not include the start character.\n",
    "            decoder_target_data[i, t - 1] = hinglish_word_dict.get(\n",
    "                char, hinglish_word_dict[\"<unk>\"])"
   ]
  },
  {
   "cell_type": "code",
   "execution_count": 11,
   "metadata": {},
   "outputs": [],
   "source": [
    "#split the data to get validation set\n",
    "from sklearn.model_selection import train_test_split\n",
    "encoder_input_data_train, encoder_input_data_test, decoder_input_data_train, decoder_input_data_test, decoder_target_data_train, decoder_target_data_test = train_test_split(\n",
    "    encoder_input_data, decoder_input_data, decoder_target_data, test_size=0.2)"
   ]
  },
  {
   "cell_type": "markdown",
   "metadata": {},
   "source": [
    "## Glove Embedding"
   ]
  },
  {
   "cell_type": "code",
   "execution_count": 13,
   "metadata": {},
   "outputs": [],
   "source": [
    "from apiclient import discovery\n",
    "from httplib2 import Http\n",
    "import oauth2client\n",
    "from oauth2client import file, client, tools\n",
    "obj = lambda: None\n",
    "lmao = {\"auth_host_name\":'localhost', 'noauth_local_webserver':'store_true', 'auth_host_port':[8080, 8090], 'logging_level':'ERROR'}\n",
    "for k, v in lmao.items():\n",
    "    setattr(obj, k, v)\n",
    "    \n",
    "# authorization boilerplate code\n",
    "SCOPES = 'https://www.googleapis.com/auth/drive.readonly'\n",
    "store = file.Storage('token.json')\n",
    "creds = store.get()\n",
    "# The following will give you a link if token.json does not exist, the link allows the user to give this app permission\n",
    "if not creds or creds.invalid:\n",
    "    flow = client.flow_from_clientsecrets('client_id.json', SCOPES)\n",
    "    creds = tools.run_flow(flow, store, obj)"
   ]
  },
  {
   "cell_type": "code",
   "execution_count": null,
   "metadata": {},
   "outputs": [],
   "source": []
  },
  {
   "cell_type": "code",
   "execution_count": 14,
   "metadata": {},
   "outputs": [],
   "source": [
    "glove_url = \"https://drive.google.com/file/d/1gNfTB_PNkGlF31mf7CnsZKCuQJKx9Dj7/view?usp=drive_link\"\n",
    "glove_id = \"1gNfTB_PNkGlF31mf7CnsZKCuQJKx9Dj7\"\n",
    "output = \"'Glove_Model_300.pkl\""
   ]
  },
  {
   "cell_type": "code",
   "execution_count": 15,
   "metadata": {},
   "outputs": [
    {
     "name": "stdout",
     "output_type": "stream",
     "text": [
      "Download 20%.\n",
      "Download 41%.\n",
      "Download 62%.\n",
      "Download 83%.\n",
      "Download 100%.\n"
     ]
    }
   ],
   "source": [
    "import io\n",
    "from googleapiclient.http import MediaIoBaseDownload\n",
    "DRIVE = discovery.build('drive', 'v3', http=creds.authorize(Http()))\n",
    "# if you get the shareable link, the link contains this id, replace the file_id below\n",
    "file_id = glove_id\n",
    "request = DRIVE.files().get_media(fileId=file_id)\n",
    "# replace the filename and extension in the first field below\n",
    "fh = io.FileIO(output, mode='w')\n",
    "downloader = MediaIoBaseDownload(fh, request)\n",
    "done = False\n",
    "while done is False:\n",
    "    status, done = downloader.next_chunk()\n",
    "    print(\"Download %d%%.\" % int(status.progress() * 100))"
   ]
  },
  {
   "cell_type": "code",
   "execution_count": 16,
   "metadata": {},
   "outputs": [
    {
     "name": "stdout",
     "output_type": "stream",
     "text": [
      "3.10.12 | packaged by conda-forge | (main, Jun 23 2023, 22:40:32) [GCC 12.3.0]\n"
     ]
    }
   ],
   "source": [
    "import sys\n",
    "print(sys.version)"
   ]
  },
  {
   "cell_type": "code",
   "execution_count": 17,
   "metadata": {},
   "outputs": [],
   "source": [
    "pkl_path = \"Glove_Model_300.pkl\""
   ]
  },
  {
   "cell_type": "code",
   "execution_count": 18,
   "metadata": {},
   "outputs": [],
   "source": [
    "handle_file = pickle.load(open(pkl_path, 'rb'))"
   ]
  },
  {
   "cell_type": "code",
   "execution_count": 19,
   "metadata": {},
   "outputs": [],
   "source": [
    "word_vectors = handle_file"
   ]
  },
  {
   "cell_type": "code",
   "execution_count": 20,
   "metadata": {},
   "outputs": [],
   "source": [
    "EMBEDDING_DIM = 300\n",
    "embedding_matrix = np.zeros((len(english_word_dict) + 1, EMBEDDING_DIM))"
   ]
  },
  {
   "cell_type": "code",
   "execution_count": 21,
   "metadata": {},
   "outputs": [
    {
     "name": "stderr",
     "output_type": "stream",
     "text": [
      "/var/tmp/ipykernel_71241/2741459457.py:5: DeprecationWarning: Call to deprecated `word_vec` (Use get_vector instead).\n",
      "  embedding_vector = word_vectors.word_vec(word)\n"
     ]
    }
   ],
   "source": [
    "for word, i in english_word_dict.items():\n",
    "      # if the word can be found in the glove word vector then add the weight\n",
    "      # if not then just keep it blank\n",
    "    try:\n",
    "        embedding_vector = word_vectors.word_vec(word)\n",
    "    except:\n",
    "        embedding_vector=None\n",
    "    \n",
    "    if embedding_vector is not None:\n",
    "        embedding_matrix[i] = embedding_vector"
   ]
  },
  {
   "cell_type": "markdown",
   "metadata": {},
   "source": [
    "## Modelling Stage"
   ]
  },
  {
   "cell_type": "code",
   "execution_count": 22,
   "metadata": {},
   "outputs": [],
   "source": [
    "checkpoint = tf.keras.callbacks.ModelCheckpoint(\n",
    "        'models/{epoch:02d}-{val_loss:.2f}.h5',\n",
    "        verbose=1,\n",
    "        save_best_only=False\n",
    "    )"
   ]
  },
  {
   "cell_type": "code",
   "execution_count": 23,
   "metadata": {},
   "outputs": [
    {
     "name": "stderr",
     "output_type": "stream",
     "text": [
      "2023-11-06 10:29:18.189214: I tensorflow/compiler/xla/stream_executor/cuda/cuda_gpu_executor.cc:981] successful NUMA node read from SysFS had negative value (-1), but there must be at least one NUMA node, so returning NUMA node zero\n",
      "2023-11-06 10:29:18.222219: I tensorflow/compiler/xla/stream_executor/cuda/cuda_gpu_executor.cc:981] successful NUMA node read from SysFS had negative value (-1), but there must be at least one NUMA node, so returning NUMA node zero\n",
      "2023-11-06 10:29:18.222498: I tensorflow/compiler/xla/stream_executor/cuda/cuda_gpu_executor.cc:981] successful NUMA node read from SysFS had negative value (-1), but there must be at least one NUMA node, so returning NUMA node zero\n",
      "2023-11-06 10:29:18.223491: I tensorflow/core/platform/cpu_feature_guard.cc:193] This TensorFlow binary is optimized with oneAPI Deep Neural Network Library (oneDNN) to use the following CPU instructions in performance-critical operations:  AVX2 AVX512F FMA\n",
      "To enable them in other operations, rebuild TensorFlow with the appropriate compiler flags.\n",
      "2023-11-06 10:29:18.224082: I tensorflow/compiler/xla/stream_executor/cuda/cuda_gpu_executor.cc:981] successful NUMA node read from SysFS had negative value (-1), but there must be at least one NUMA node, so returning NUMA node zero\n",
      "2023-11-06 10:29:18.224321: I tensorflow/compiler/xla/stream_executor/cuda/cuda_gpu_executor.cc:981] successful NUMA node read from SysFS had negative value (-1), but there must be at least one NUMA node, so returning NUMA node zero\n",
      "2023-11-06 10:29:18.224500: I tensorflow/compiler/xla/stream_executor/cuda/cuda_gpu_executor.cc:981] successful NUMA node read from SysFS had negative value (-1), but there must be at least one NUMA node, so returning NUMA node zero\n",
      "2023-11-06 10:29:18.876959: I tensorflow/compiler/xla/stream_executor/cuda/cuda_gpu_executor.cc:981] successful NUMA node read from SysFS had negative value (-1), but there must be at least one NUMA node, so returning NUMA node zero\n",
      "2023-11-06 10:29:18.877245: I tensorflow/compiler/xla/stream_executor/cuda/cuda_gpu_executor.cc:981] successful NUMA node read from SysFS had negative value (-1), but there must be at least one NUMA node, so returning NUMA node zero\n",
      "2023-11-06 10:29:18.877437: I tensorflow/compiler/xla/stream_executor/cuda/cuda_gpu_executor.cc:981] successful NUMA node read from SysFS had negative value (-1), but there must be at least one NUMA node, so returning NUMA node zero\n",
      "2023-11-06 10:29:18.877605: I tensorflow/core/common_runtime/gpu/gpu_device.cc:1613] Created device /job:localhost/replica:0/task:0/device:GPU:0 with 14612 MB memory:  -> device: 0, name: Tesla V100-SXM2-16GB, pci bus id: 0000:00:04.0, compute capability: 7.0\n"
     ]
    },
    {
     "name": "stdout",
     "output_type": "stream",
     "text": [
      "WARNING:tensorflow:From /opt/conda/envs/tensorflow/lib/python3.10/site-packages/tensorflow/python/autograph/pyct/static_analysis/liveness.py:83: Analyzer.lamba_check (from tensorflow.python.autograph.pyct.static_analysis.liveness) is deprecated and will be removed after 2023-09-23.\n",
      "Instructions for updating:\n",
      "Lambda fuctions will be no more assumed to be used in the statement where they are used, or at least in the same block. https://github.com/tensorflow/tensorflow/issues/56089\n"
     ]
    }
   ],
   "source": [
    "EMBEDDING_DIM = 300\n",
    "latent_dim = 300\n",
    "num_words = 10004\n",
    "units = 128\n",
    "#put the glove embeddings in here\n",
    "embedding_layer = Embedding(num_words + 1,\n",
    "                            latent_dim,\n",
    "                            weights=[embedding_matrix],\n",
    "                            trainable=False)\n",
    "\n",
    "#encoder model\n",
    "encoder_inputs = Input(shape=(max_length, ), name=\"encoder_input\")\n",
    "encoder_emb = embedding_layer(encoder_inputs)\n",
    "encoder_lstm_1 = LSTM(latent_dim, return_state=True, return_sequences=True)\n",
    "encoder_output1, state_h1, state_c1 = encoder_lstm_1(encoder_emb)\n",
    "encoder_lstm_2 = LSTM(latent_dim, return_state=True, return_sequences=True)\n",
    "\n",
    "encoder_output2, state_h2, state_c2 = encoder_lstm_2(encoder_output1)\n",
    "\n",
    "#decoder model\n",
    "decoder_inputs = Input(shape=(None, ))\n",
    "decoder_emb_layer = Embedding(num_words, latent_dim, trainable=True)\n",
    "decoder_emb = decoder_emb_layer(decoder_inputs)\n",
    "decoder_lstm = LSTM(latent_dim, return_sequences=True, return_state=True)\n",
    "\n",
    "decoder_outputs, _, _ = decoder_lstm(decoder_emb,\n",
    "                                     initial_state=[state_h2, state_c2])\n",
    "#attention layer\n",
    "attention = AttentionLayer()\n",
    "attn_out, attn_states = attention([encoder_output2, decoder_outputs])\n",
    "#combine attention with decoder outputs\n",
    "decoder_outputs = Concatenate(axis=-1)([decoder_outputs, attn_out])\n",
    "\n",
    "decoder_dense = TimeDistributed(\n",
    "    Dense(num_words, activation='softmax', name=\"Dense_layer\"))\n",
    "\n",
    "decoder_final_outputs = decoder_dense(decoder_outputs)\n",
    "seq2seq_Model = Model([encoder_inputs, decoder_inputs], decoder_final_outputs)\n",
    "#use sparse categorical as our data is not one hot encoded\n",
    "seq2seq_Model.compile(optimizer='rmsprop',\n",
    "                      loss='sparse_categorical_crossentropy',\n",
    "                      metrics=[\"accuracy\"])"
   ]
  },
  {
   "cell_type": "code",
   "execution_count": 94,
   "metadata": {},
   "outputs": [
    {
     "name": "stdout",
     "output_type": "stream",
     "text": [
      "Epoch 1/10\n"
     ]
    },
    {
     "name": "stderr",
     "output_type": "stream",
     "text": [
      "2023-11-06 08:03:43.220214: I tensorflow/compiler/xla/stream_executor/cuda/cuda_dnn.cc:428] Loaded cuDNN version 8900\n",
      "2023-11-06 08:03:43.804361: I tensorflow/compiler/xla/service/service.cc:173] XLA service 0x7f92c016e510 initialized for platform CUDA (this does not guarantee that XLA will be used). Devices:\n",
      "2023-11-06 08:03:43.804404: I tensorflow/compiler/xla/service/service.cc:181]   StreamExecutor device (0): Tesla V100-SXM2-16GB, Compute Capability 7.0\n",
      "2023-11-06 08:03:43.857571: I tensorflow/compiler/mlir/tensorflow/utils/dump_mlir_util.cc:268] disabling MLIR crash reproducer, set env var `MLIR_CRASH_REPRODUCER_DIRECTORY` to enable.\n",
      "2023-11-06 08:03:44.350726: I tensorflow/compiler/jit/xla_compilation_cache.cc:477] Compiled cluster using XLA!  This line is logged at most once for the lifetime of the process.\n"
     ]
    },
    {
     "name": "stdout",
     "output_type": "stream",
     "text": [
      "4728/4728 [==============================] - ETA: 0s - loss: 1.1567 - accuracy: 0.8165\n",
      "Epoch 1: val_loss improved from inf to 0.97671, saving model to models/01-0.98.h5\n",
      "4728/4728 [==============================] - 535s 111ms/step - loss: 1.1567 - accuracy: 0.8165 - val_loss: 0.9767 - val_accuracy: 0.8367\n",
      "Epoch 2/10\n",
      "4728/4728 [==============================] - ETA: 0s - loss: 0.9188 - accuracy: 0.8430\n",
      "Epoch 2: val_loss improved from 0.97671 to 0.88140, saving model to models/02-0.88.h5\n",
      "4728/4728 [==============================] - 511s 108ms/step - loss: 0.9188 - accuracy: 0.8430 - val_loss: 0.8814 - val_accuracy: 0.8474\n",
      "Epoch 3/10\n",
      "4728/4728 [==============================] - ETA: 0s - loss: 0.8551 - accuracy: 0.8501\n",
      "Epoch 3: val_loss improved from 0.88140 to 0.84267, saving model to models/03-0.84.h5\n",
      "4728/4728 [==============================] - 507s 107ms/step - loss: 0.8551 - accuracy: 0.8501 - val_loss: 0.8427 - val_accuracy: 0.8507\n",
      "Epoch 4/10\n",
      "4728/4728 [==============================] - ETA: 0s - loss: 0.8210 - accuracy: 0.8539\n",
      "Epoch 4: val_loss improved from 0.84267 to 0.81893, saving model to models/04-0.82.h5\n",
      "4728/4728 [==============================] - 498s 105ms/step - loss: 0.8210 - accuracy: 0.8539 - val_loss: 0.8189 - val_accuracy: 0.8553\n",
      "Epoch 5/10\n",
      "4728/4728 [==============================] - ETA: 0s - loss: 0.7982 - accuracy: 0.8564\n",
      "Epoch 5: val_loss improved from 0.81893 to 0.80574, saving model to models/05-0.81.h5\n",
      "4728/4728 [==============================] - 518s 110ms/step - loss: 0.7982 - accuracy: 0.8564 - val_loss: 0.8057 - val_accuracy: 0.8563\n",
      "Epoch 6/10\n",
      "4728/4728 [==============================] - ETA: 0s - loss: 0.7809 - accuracy: 0.8583\n",
      "Epoch 6: val_loss improved from 0.80574 to 0.79427, saving model to models/06-0.79.h5\n",
      "4728/4728 [==============================] - 493s 104ms/step - loss: 0.7809 - accuracy: 0.8583 - val_loss: 0.7943 - val_accuracy: 0.8579\n",
      "Epoch 7/10\n",
      "4728/4728 [==============================] - ETA: 0s - loss: 0.7669 - accuracy: 0.8598\n",
      "Epoch 7: val_loss improved from 0.79427 to 0.78488, saving model to models/07-0.78.h5\n",
      "4728/4728 [==============================] - 491s 104ms/step - loss: 0.7669 - accuracy: 0.8598 - val_loss: 0.7849 - val_accuracy: 0.8585\n",
      "Epoch 8/10\n",
      "4728/4728 [==============================] - ETA: 0s - loss: 0.7553 - accuracy: 0.8611\n",
      "Epoch 8: val_loss improved from 0.78488 to 0.78106, saving model to models/08-0.78.h5\n",
      "4728/4728 [==============================] - 495s 105ms/step - loss: 0.7553 - accuracy: 0.8611 - val_loss: 0.7811 - val_accuracy: 0.8588\n",
      "Epoch 9/10\n",
      "4728/4728 [==============================] - ETA: 0s - loss: 0.7450 - accuracy: 0.8621\n",
      "Epoch 9: val_loss improved from 0.78106 to 0.77601, saving model to models/09-0.78.h5\n",
      "4728/4728 [==============================] - 498s 105ms/step - loss: 0.7450 - accuracy: 0.8621 - val_loss: 0.7760 - val_accuracy: 0.8593\n",
      "Epoch 10/10\n",
      "4728/4728 [==============================] - ETA: 0s - loss: 0.7360 - accuracy: 0.8631\n",
      "Epoch 10: val_loss improved from 0.77601 to 0.77037, saving model to models/10-0.77.h5\n",
      "4728/4728 [==============================] - 495s 105ms/step - loss: 0.7360 - accuracy: 0.8631 - val_loss: 0.7704 - val_accuracy: 0.8604\n"
     ]
    }
   ],
   "source": [
    "#training model\n",
    "history = seq2seq_Model.fit(\n",
    "    [encoder_input_data_train, decoder_input_data_train],\n",
    "    decoder_target_data_train,\n",
    "    epochs=18,\n",
    "    validation_data=([encoder_input_data_test,\n",
    "                      decoder_input_data_test], decoder_target_data_test),\n",
    "    callbacks=[checkpoint])"
   ]
  },
  {
   "cell_type": "code",
   "execution_count": 101,
   "metadata": {},
   "outputs": [
    {
     "data": {
      "image/png": "[encoded data removed]",
      "text/plain": [
       "<Figure size 1200x600 with 2 Axes>"
      ]
     },
     "metadata": {},
     "output_type": "display_data"
    }
   ],
   "source": [
    "import matplotlib.pyplot as plt\n",
    "\n",
    "# Extracting training loss and accuracy\n",
    "train_loss = history.history['loss']\n",
    "train_accuracy = history.history['accuracy']\n",
    "\n",
    "# Extracting validation loss\n",
    "val_loss = history.history['val_loss']\n",
    "\n",
    "# Extracting validation accuracy (if available)\n",
    "val_accuracy = history.history.get('val_accuracy')\n",
    "\n",
    "# Plotting training loss\n",
    "plt.figure(figsize=(12, 6))\n",
    "plt.subplot(1, 2, 1)\n",
    "plt.plot(train_loss, label='Training Loss')\n",
    "plt.plot(val_loss, label='Validation Loss')\n",
    "plt.title('Training and Validation Loss')\n",
    "plt.xlabel('Epoch')\n",
    "plt.ylabel('Loss')\n",
    "plt.legend()\n",
    "\n",
    "# Plotting training accuracy and validation accuracy (if available)\n",
    "plt.subplot(1, 2, 2)\n",
    "plt.plot(train_accuracy, label='Training Accuracy')\n",
    "if val_accuracy is not None:\n",
    "    plt.plot(val_accuracy, label='Validation Accuracy')\n",
    "    plt.title('Training and Validation Accuracy')\n",
    "else:\n",
    "    plt.title('Training Accuracy')\n",
    "plt.xlabel('Epoch')\n",
    "plt.ylabel('Accuracy')\n",
    "plt.legend()\n",
    "\n",
    "plt.show()\n"
   ]
  },
  {
   "cell_type": "code",
   "execution_count": 72,
   "metadata": {},
   "outputs": [],
   "source": [
    "# train from checkpoint\n",
    "model_chk = keras.models.load_model(\"models/10-0.75.h5\",custom_objects={\"AttentionLayer\": AttentionLayer})\n",
    "model_chk.compile(optimizer='rmsprop',\n",
    "                      loss='sparse_categorical_crossentropy',\n",
    "                      metrics=[\"accuracy\"])\n"
   ]
  },
  {
   "cell_type": "code",
   "execution_count": null,
   "metadata": {},
   "outputs": [
    {
     "name": "stdout",
     "output_type": "stream",
     "text": [
      "Epoch 1/18\n",
      "4728/4728 [==============================] - ETA: 0s - loss: 0.6192 - accuracy: 0.8774\n",
      "Epoch 1: saving model to models/01-0.75.h5\n",
      "4728/4728 [==============================] - 506s 106ms/step - loss: 0.6192 - accuracy: 0.8774 - val_loss: 0.7512 - val_accuracy: 0.8628\n",
      "Epoch 2/18\n",
      "4728/4728 [==============================] - ETA: 0s - loss: 0.6158 - accuracy: 0.8778\n",
      "Epoch 2: saving model to models/02-0.75.h5\n",
      "4728/4728 [==============================] - 488s 103ms/step - loss: 0.6158 - accuracy: 0.8778 - val_loss: 0.7536 - val_accuracy: 0.8626\n",
      "Epoch 3/18\n",
      "4728/4728 [==============================] - ETA: 0s - loss: 0.6125 - accuracy: 0.8782\n",
      "Epoch 3: saving model to models/03-0.76.h5\n",
      "4728/4728 [==============================] - 487s 103ms/step - loss: 0.6125 - accuracy: 0.8782 - val_loss: 0.7559 - val_accuracy: 0.8614\n",
      "Epoch 4/18\n",
      "3043/4728 [==================>...........] - ETA: 2:46 - loss: 0.6066 - accuracy: 0.8790"
     ]
    }
   ],
   "source": [
    "#retraining model\n",
    "history2 = model_chk.fit(\n",
    "    [encoder_input_data_train, decoder_input_data_train],\n",
    "    decoder_target_data_train,\n",
    "    epochs=18,\n",
    "    validation_data=([encoder_input_data_test,\n",
    "                      decoder_input_data_test], decoder_target_data_test),\n",
    "    callbacks=[checkpoint])"
   ]
  },
  {
   "cell_type": "code",
   "execution_count": null,
   "metadata": {},
   "outputs": [],
   "source": [
    "import matplotlib.pyplot as plt\n",
    "\n",
    "# Extracting training loss and accuracy\n",
    "train_loss = history2.history['loss']\n",
    "train_accuracy = history2.history['accuracy']\n",
    "\n",
    "# Extracting validation loss\n",
    "val_loss = history2.history['val_loss']\n",
    "\n",
    "# Extracting validation accuracy (if available)\n",
    "val_accuracy = history2.history.get('val_accuracy')\n",
    "\n",
    "# Plotting training loss\n",
    "plt.figure(figsize=(12, 6))\n",
    "plt.subplot(1, 2, 1)\n",
    "plt.plot(train_loss, label='Training Loss')\n",
    "plt.plot(val_loss, label='Validation Loss')\n",
    "plt.title('Training and Validation Loss')\n",
    "plt.xlabel('Epoch')\n",
    "plt.ylabel('Loss')\n",
    "plt.legend()\n",
    "\n",
    "# Plotting training accuracy and validation accuracy (if available)\n",
    "plt.subplot(1, 2, 2)\n",
    "plt.plot(train_accuracy, label='Training Accuracy')\n",
    "if val_accuracy is not None:\n",
    "    plt.plot(val_accuracy, label='Validation Accuracy')\n",
    "    plt.title('Training and Validation Accuracy')\n",
    "else:\n",
    "    plt.title('Training Accuracy')\n",
    "plt.xlabel('Epoch')\n",
    "plt.ylabel('Accuracy')\n",
    "plt.legend()\n",
    "\n",
    "plt.show()\n"
   ]
  },
  {
   "cell_type": "code",
   "execution_count": null,
   "metadata": {},
   "outputs": [],
   "source": [
    "#Load a saved model and run inference"
   ]
  },
  {
   "cell_type": "code",
   "execution_count": 73,
   "metadata": {},
   "outputs": [],
   "source": [
    "loaded_model = keras.models.load_model(\"models/10-0.75.h5\",custom_objects={\"AttentionLayer\": AttentionLayer})"
   ]
  },
  {
   "cell_type": "code",
   "execution_count": 74,
   "metadata": {},
   "outputs": [],
   "source": [
    "#encoder inference model\n",
    "encoder_inf_inputs = loaded_model.input[0]  # input_1\n",
    "encoder_inf_output2,encoder_inf_state_h2, encoder_inf_state_c2 = loaded_model.layers[5].output\n",
    "encoder_inf_model = Model(inputs=encoder_inf_inputs,outputs=[encoder_inf_output2,encoder_inf_state_h2, encoder_inf_state_c2])"
   ]
  },
  {
   "cell_type": "code",
   "execution_count": 75,
   "metadata": {},
   "outputs": [],
   "source": [
    "# decoder inference model\n",
    "decoder_inf_inputs = loaded_model.input[1]\n",
    "\n",
    "encoder_out_temp = Input(shape=(40,latent_dim))\n",
    "encoder_state_input_h = Input(shape=(latent_dim,))\n",
    "encoder_state_input_c = Input(shape=(latent_dim,))\n",
    "\n",
    "decoder_embed_layer = loaded_model.layers[4]\n",
    "decoder_embeddings = decoder_embed_layer(decoder_inf_inputs)\n",
    "\n",
    "decoder_inf_lstm = loaded_model.layers[6]\n",
    "decoder_inf_outputs, decoder_state_h2, decoder_state_c2 = decoder_inf_lstm(decoder_embeddings, initial_state=[encoder_state_input_h, encoder_state_input_c])\n",
    "\n",
    "# attention_inf_layer = loaded_model.layers[7], this is the attention model from the model but \n",
    "decoder_attention = loaded_model.layers[7]\n",
    "attn_out_inf,_=decoder_attention([encoder_out_temp, decoder_inf_outputs])\n",
    "# concat\n",
    "decoder_inf_concat=tf.keras.layers.Concatenate()([decoder_inf_outputs, attn_out_inf])\n",
    "# time_distributed\n",
    "time = loaded_model.layers[9]\n",
    "decoder_outputs2 = time(decoder_inf_concat)\n",
    "\n",
    "decoder_model = Model(\n",
    "inputs = [decoder_inf_inputs] + [encoder_out_temp,encoder_state_input_h, encoder_state_input_c],\n",
    "outputs = [decoder_outputs2] + [decoder_state_h2, decoder_state_c2])"
   ]
  },
  {
   "cell_type": "code",
   "execution_count": 76,
   "metadata": {},
   "outputs": [],
   "source": [
    "def prepare_text(text):\n",
    "    # pad the text\n",
    "    max_length = 40\n",
    "    \n",
    "    tokenized = word_tokenize(text)[:max_length]\n",
    "    padded_text = tokenized + (max_length - len(tokenized)) * [\"<padding>\"]\n",
    "\n",
    "    #initialising the training data\n",
    "    encoder_input_data = np.zeros(\n",
    "        (1, max_length),\n",
    "        dtype='float32')\n",
    "    \n",
    "    for t, char in enumerate(padded_text):\n",
    "        try:\n",
    "            #use unk if we cant find the word in the dictionary\n",
    "            encoder_input_data[0, t] = english_word_dict.get(\n",
    "                char, english_word_dict[\"<unk>\"])\n",
    "        except:\n",
    "            print(char)\n",
    "    \n",
    "    return encoder_input_data"
   ]
  },
  {
   "cell_type": "code",
   "execution_count": 77,
   "metadata": {},
   "outputs": [],
   "source": [
    "sentence1 = \"definitely share you feedback in the comment section\"\n",
    "sentence2 = \"so even if its a big video, I will clearly mention all the products\"\n",
    "sentence3 = \"I was waiting for my bag\""
   ]
  },
  {
   "cell_type": "code",
   "execution_count": 82,
   "metadata": {},
   "outputs": [],
   "source": [
    "test = prepare_text(sentence3)"
   ]
  },
  {
   "cell_type": "code",
   "execution_count": 83,
   "metadata": {},
   "outputs": [
    {
     "name": "stdout",
     "output_type": "stream",
     "text": [
      "1/1 [==============================] - 0s 20ms/step\n",
      "1/1 [==============================] - 0s 23ms/step\n",
      "1/1 [==============================] - 0s 25ms/step\n",
      "1/1 [==============================] - 0s 24ms/step\n",
      "1/1 [==============================] - 0s 23ms/step\n",
      "1/1 [==============================] - 0s 22ms/step\n",
      "1/1 [==============================] - 0s 24ms/step\n",
      "1/1 [==============================] - 0s 23ms/step\n",
      "1/1 [==============================] - 0s 22ms/step\n",
      "1/1 [==============================] - 0s 24ms/step\n",
      "1/1 [==============================] - 0s 22ms/step\n",
      "1/1 [==============================] - 0s 23ms/step\n",
      "1/1 [==============================] - 0s 24ms/step\n",
      "1/1 [==============================] - 0s 24ms/step\n",
      "1/1 [==============================] - 0s 24ms/step\n",
      "1/1 [==============================] - 0s 21ms/step\n",
      "1/1 [==============================] - 0s 21ms/step\n",
      "1/1 [==============================] - 0s 22ms/step\n"
     ]
    }
   ],
   "source": [
    "#encoding incoming data\n",
    "e_out, e_h, e_c = encoder_inf_model.predict(test)\n",
    "#creating target sequence\n",
    "target_seq = np.zeros((1, 1))\n",
    "#inputing start token\n",
    "target_seq[0, 0] = english_word_dict['<s>']\n",
    "stop_condition = False\n",
    "decoded_sentence = ''\n",
    "#looping until stop token is predicted or\n",
    "while not stop_condition:\n",
    "    output_tokens, h, c = decoder_model.predict([target_seq] +\n",
    "                                                [e_out, e_h, e_c])\n",
    "    #want to get index with highest probability\n",
    "    sampled_token_index = np.argmax(output_tokens[0, -1, :])\n",
    "    #find word at that index\n",
    "    sampled_char = hinglish_reversed_dict[sampled_token_index]\n",
    "    #add to sentence\n",
    "    decoded_sentence += ' ' + sampled_char\n",
    "    if (sampled_char == \"</s>\" or len(word_tokenize(decoded_sentence)) > 52):\n",
    "        stop_condition = True\n",
    "    target_seq = np.zeros((1, 1))\n",
    "    target_seq[0, 0] = sampled_token_index\n",
    "    #update hidden + cell states\n",
    "    e_h, e_c = h, c"
   ]
  },
  {
   "cell_type": "code",
   "execution_count": 84,
   "metadata": {},
   "outputs": [
    {
     "data": {
      "text/plain": [
       "' kya aap muje remind kara sakte he to send my mom a birthday card on monday </s>'"
      ]
     },
     "execution_count": 84,
     "metadata": {},
     "output_type": "execute_result"
    }
   ],
   "source": [
    "decoded_sentence"
   ]
  },
  {
   "cell_type": "code",
   "execution_count": null,
   "metadata": {},
   "outputs": [],
   "source": []
  }
 ],
 "metadata": {
  "environment": {
   "kernel": "conda-env-tensorflow-tensorflow",
   "name": "workbench-notebooks.m111",
   "type": "gcloud",
   "uri": "gcr.io/deeplearning-platform-release/workbench-notebooks:m111"
  },
  "kernelspec": {
   "display_name": "TensorFlow 2-11",
   "language": "python",
   "name": "conda-env-tensorflow-tensorflow"
  },
  "language_info": {
   "codemirror_mode": {
    "name": "ipython",
    "version": 3
   },
   "file_extension": ".py",
   "mimetype": "text/x-python",
   "name": "python",
   "nbconvert_exporter": "python",
   "pygments_lexer": "ipython3",
   "version": "3.10.12"
  },
  "toc": {
   "base_numbering": 1,
   "nav_menu": {},
   "number_sections": true,
   "sideBar": true,
   "skip_h1_title": false,
   "title_cell": "Table of Contents",
   "title_sidebar": "Contents",
   "toc_cell": false,
   "toc_position": {},
   "toc_section_display": true,
   "toc_window_display": false
  }
 },
 "nbformat": 4,
 "nbformat_minor": 4
}
